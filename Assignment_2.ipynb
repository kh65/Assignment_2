{
 "cells": [
  {
   "cell_type": "code",
   "execution_count": 1,
   "id": "02876da5-9eb5-428f-94b0-3f96257d6a75",
   "metadata": {},
   "outputs": [],
   "source": [
    "import numpy as np\n",
    "import matplotlib.pyplot as plt"
   ]
  },
  {
   "cell_type": "code",
   "execution_count": 20,
   "id": "7f24c872-8570-486d-a5bc-56b19b723332",
   "metadata": {},
   "outputs": [],
   "source": [
    "class linearSVM:\n",
    "    \n",
    "        \n",
    "    def func(self, learning_rate):\n",
    "        self.learning_rate = learning_rate\n",
    "        \n"
   ]
  },
  {
   "cell_type": "code",
   "execution_count": 21,
   "id": "03db3022-a67e-40ca-8b28-a1a8ade0a8fe",
   "metadata": {},
   "outputs": [],
   "source": [
    "mySVM = linearSVM()\n",
    "\n",
    "mySVM.func(20) "
   ]
  },
  {
   "cell_type": "code",
   "execution_count": 19,
   "id": "8a2902f7-0420-4fa3-8198-68bc5d416e21",
   "metadata": {},
   "outputs": [
    {
     "data": {
      "text/plain": [
       "20"
      ]
     },
     "execution_count": 19,
     "metadata": {},
     "output_type": "execute_result"
    }
   ],
   "source": [
    "mySVM.learning_rate"
   ]
  },
  {
   "cell_type": "code",
   "execution_count": null,
   "id": "efcdfb12-cce0-484a-934a-be07a4e78314",
   "metadata": {},
   "outputs": [],
   "source": []
  }
 ],
 "metadata": {
  "kernelspec": {
   "display_name": "Python [conda env:datascience1] *",
   "language": "python",
   "name": "conda-env-datascience1-py"
  },
  "language_info": {
   "codemirror_mode": {
    "name": "ipython",
    "version": 3
   },
   "file_extension": ".py",
   "mimetype": "text/x-python",
   "name": "python",
   "nbconvert_exporter": "python",
   "pygments_lexer": "ipython3",
   "version": "3.8.11"
  }
 },
 "nbformat": 4,
 "nbformat_minor": 5
}
