{
 "cells": [
  {
   "cell_type": "markdown",
   "id": "62fba025-fbcd-40e5-8a4a-d8efd6d87f9c",
   "metadata": {},
   "source": [
    "This program is the implementation of the second programming assingment of Mining Massive Data (SS-2022). <br>\n",
    "Date: 15.05.2022 <br>\n",
    "Authors: Sabo Vladimír, Hoxhallari Kejsi, Bleiberschnig Jakob <br>\n"
   ]
  },
  {
   "cell_type": "markdown",
   "id": "852ebfbc-06ae-4e8c-abe6-4b97db0351ff",
   "metadata": {
    "tags": []
   },
   "source": [
    "#### imports"
   ]
  },
  {
   "cell_type": "code",
   "execution_count": 1,
   "id": "7569bda1",
   "metadata": {},
   "outputs": [],
   "source": [
    "import numpy as np\n",
    "import pandas as pd\n",
    "import matplotlib.pyplot as plt\n",
    "from scipy.optimize import minimize\n",
    "import sklearn.preprocessing\n",
    "from sklearn.metrics import confusion_matrix\n",
    "import timeit\n",
    "import math\n",
    "from scipy.stats import cauchy, laplace\n",
    "#import time\n",
    "from sklearn.svm import SVC # never usend?"
   ]
  },
  {
   "cell_type": "markdown",
   "id": "3744abcc-a11a-47a2-a2f9-c690204fd4c1",
   "metadata": {
    "jp-MarkdownHeadingCollapsed": true,
    "tags": []
   },
   "source": [
    "#### Classes and Functions used in all three Tasks"
   ]
  },
  {
   "cell_type": "code",
   "execution_count": 2,
   "id": "61c54e7d",
   "metadata": {},
   "outputs": [],
   "source": [
    "def data_process(data):\n",
    "    features = data[:,:-1]\n",
    "    features = sklearn.preprocessing.StandardScaler().fit_transform(features)\n",
    "    features = sklearn.preprocessing.normalize(features)\n",
    "    data[:,:-1] = features\n",
    "    return data\n",
    "\n",
    "def check_accuracy(y, y_pred):\n",
    "    return sum(y == y_pred)/len(y)\n",
    "\n",
    "def mc_hinge(W,x,y):\n",
    "\n",
    "    '''\n",
    "    w_i - vector of weights of the SVM for the class i; W has |features| rows and |classes| columns\n",
    "    x - features of a sample\n",
    "    y - label of a sample\n",
    "    loss = max{0, max(w_j*x - w_y*x)}, j={0,...,|classes|-1}, j!=y\n",
    "    output - hingle loss value and the corresponding w_j index\n",
    "    '''\n",
    "\n",
    "    n_features, n_class = np.shape(W)\n",
    "    wyx = W[:,y].dot(x)\n",
    "    max_dif = - np.inf\n",
    "    ind_j = 0\n",
    "\n",
    "    for j in [i for i in range(n_class) if i != y]:\n",
    "        wjx = W[:,j].dot(x)\n",
    "        if wjx > max_dif:\n",
    "            max_dif = wjx\n",
    "            ind_j = j\n",
    "\n",
    "    max_dif -= wyx\n",
    "\n",
    "    if max_dif > 0:\n",
    "        return 1 + max_dif, ind_j\n",
    "    else:\n",
    "        return 0, -1"
   ]
  },
  {
   "cell_type": "code",
   "execution_count": 3,
   "id": "79dabaa5",
   "metadata": {},
   "outputs": [],
   "source": [
    "class LinearSVM:\n",
    "            \n",
    "    def fit(self, dataset, learning_rate, epochs, regularization):\n",
    "        \n",
    "        # adding ones at the end of each feature vector\n",
    "        dataset = np.insert(dataset, -1, np.ones(len(dataset)), axis=1)\n",
    "        \n",
    "        size = len(dataset[0])-1\n",
    "        n = len(dataset)\n",
    "        \n",
    "        w = np.random.rand(size)        \n",
    "        w_epochs = np.zeros((epochs, size))       \n",
    "        \n",
    "        X = dataset[:,:-1]\n",
    "        Y = dataset[:,-1]\n",
    "        \n",
    "        for i in range(epochs):\n",
    "            \n",
    "            shuffle = np.random.permutation(n)\n",
    "            X = X[shuffle]\n",
    "            Y = Y[shuffle]\n",
    "                        \n",
    "            for j in range(len(dataset)):\n",
    "\n",
    "                x = X[j]                \n",
    "                y = Y[j]\n",
    "        \n",
    "                ywx = y * w.dot(x) \n",
    "                    \n",
    "                if ywx < 1:\n",
    "                    gradient = (2 * regularization * w) / n - y*x\n",
    "                else:\n",
    "                    gradient = (2 * regularization * w) / n\n",
    "                \n",
    "                w = w - learning_rate * gradient\n",
    "            \n",
    "            w_epochs[i] = w\n",
    "        \n",
    "        return w, w_epochs\n",
    "        \n",
    "    def predict(self, dataset, w):\n",
    "        # adding ones at the end of each feature vector\n",
    "        dataset = np.insert(dataset, -1, np.ones(len(dataset)), axis=1)\n",
    "\n",
    "        y = np.zeros(len(dataset)) \n",
    "        dataset = dataset[:,:-1]\n",
    "        \n",
    "        for i in range(len(dataset)):\n",
    "            y[i] = np.sign(np.dot(w.T,dataset[i]))\n",
    "        return y\n",
    "    \n",
    "    def plot_accuracies(self, train_dataset, test_dataset, w_epochs):\n",
    "        epochs = len(w_epochs)\n",
    "        test_accuracies = np.zeros(epochs)\n",
    "        train_accuracies = np.zeros(epochs)\n",
    "        for i in range(epochs):\n",
    "            train_labels = self.predict(train_dataset, w_epochs[i])\n",
    "            test_labels = self.predict(test_dataset, w_epochs[i])\n",
    "            train_accuracies[i] = check_accuracy(train_dataset[:,-1], train_labels)\n",
    "            test_accuracies[i] = check_accuracy(test_dataset[:,-1], test_labels)\n",
    "            \n",
    "\n",
    "        xs = np.array(range(epochs))+1\n",
    "        fig = plt.figure(figsize=(7,7))\n",
    "        ax = plt.axes()\n",
    "        ax.set(xlabel=\"epochs\", ylabel=\"accuracy\", ylim=(0,1.1))\n",
    "        line = ax.plot(xs, train_accuracies, marker='.', label='training') #, marker='o'\n",
    "        line = ax.plot(xs, test_accuracies, marker='.', label='validation') #, marker='o'\n",
    "        ax.legend()\n",
    "        plt.title(\"Accuracy over Epochs\")\n",
    "        plt.show()\n",
    "\n"
   ]
  },
  {
   "cell_type": "code",
   "execution_count": 4,
   "id": "e679df2f",
   "metadata": {},
   "outputs": [],
   "source": [
    "class LinearSVM_MC:\n",
    "    \n",
    "        \n",
    "    def fit(self, dataset, learning_rate, epochs, regularization, n_class):\n",
    "        # adding ones at the end of each feature vector\n",
    "        dataset = np.insert(dataset, -1, np.ones(len(dataset)), axis=1)\n",
    "        \n",
    "        size = len(dataset[0])-1\n",
    "        n = len(dataset)\n",
    "        \n",
    "        W = np.random.rand(size, n_class)       \n",
    "        \n",
    "        # this array stores the W matrix after each epoch\n",
    "        W_epochs = np.zeros((epochs, size, n_class))       \n",
    "        \n",
    "        w_norms = []\n",
    "\n",
    "        X = dataset[:,:-1]\n",
    "        Y = dataset[:,-1]\n",
    "        \n",
    "        for i in range(epochs):\n",
    "            \n",
    "            shuffle = np.random.permutation(n)\n",
    "            X = X[shuffle]\n",
    "            Y = Y[shuffle]\n",
    "            \n",
    "            for j in range(len(dataset)):\n",
    "                x = X[j]                \n",
    "                y = int(Y[j])\n",
    "                \n",
    "                gradient = np.zeros([size, n_class])\n",
    "        \n",
    "                temp, k = mc_hinge(W, x, y)\n",
    "                    \n",
    "                if temp > 0:\n",
    "                    \n",
    "                    gradient[:,y] = -x\n",
    "\n",
    "                    gradient[:,k] = x\n",
    "                    \n",
    "                \n",
    "                W = W - learning_rate * (gradient + (2 * regularization * W) / n)\n",
    "                \n",
    "                \n",
    "                '''\n",
    "                W = W - learning_rate * gradient / n\n",
    "                \n",
    "                temp = np.linalg.norm(W, ord='fro')\n",
    "                if temp > 1/regularization:\n",
    "                    W /= (temp * regularization)\n",
    "                '''\n",
    "            W_epochs[i] = W\n",
    "            \n",
    "        w_norms = np.array(w_norms)\n",
    "        \n",
    "        return W, W_epochs\n",
    "        \n",
    "    def predict(self, dataset, W):\n",
    "        # adding ones at the end of each feature vector\n",
    "        dataset = np.insert(dataset, -1, np.ones(len(dataset)), axis=1)\n",
    "        \n",
    "        y = np.zeros(len(dataset)) \n",
    "        dataset = dataset[:,:-1]\n",
    "        for i in range(len(dataset)):\n",
    "            y[i] = np.argmax(np.dot(W.T, dataset[i]))\n",
    "        return y\n",
    "    \n",
    "    \n",
    "    def plot_accuracies(self, train_dataset, test_dataset, W_epochs):\n",
    "        epochs = len(W_epochs)\n",
    "        test_accuracies = np.zeros(epochs)\n",
    "        train_accuracies = np.zeros(epochs)\n",
    "        for i in range(epochs):\n",
    "            train_labels = self.predict(train_dataset, W_epochs[i])\n",
    "            test_labels = self.predict(test_dataset, W_epochs[i])\n",
    "            train_accuracies[i] = check_accuracy(train_dataset[:,-1], train_labels)\n",
    "            test_accuracies[i] = check_accuracy(test_dataset[:,-1], test_labels)\n",
    "            \n",
    "\n",
    "        xs = np.array(range(epochs))+1\n",
    "        fig = plt.figure(figsize=(7,7))\n",
    "        ax = plt.axes()\n",
    "        ax.set(xlabel=\"epochs\", ylabel=\"accuracy\", ylim=(0,1.1))\n",
    "        line = ax.plot(xs, train_accuracies, marker='.', label='training') #, marker='o'\n",
    "        line = ax.plot(xs, test_accuracies, marker='.', label='validation') #, marker='o'\n",
    "        ax.legend()\n",
    "        plt.title(\"Accuracy over Epochs\")\n",
    "        plt.show()\n"
   ]
  },
  {
   "cell_type": "code",
   "execution_count": 5,
   "id": "ac432987-8412-4e89-ba76-220d9dbeeae0",
   "metadata": {},
   "outputs": [],
   "source": [
    "def cross_validation(SVM_object, dataset, no_subsets, learning_rate, epochs, regularization):\n",
    "    accuracies = np.zeros(no_subsets)\n",
    "    mean_duration = 0\n",
    "    # split dataset into no_subsets chunks. Chunks must be of euqal size, otherwise an error is raised\n",
    "    subarrays = np.split(dataset, no_subsets, axis=0)\n",
    "    \n",
    "    # pick one subset as test set and train the model with the rest. Then calculate the accuracy on the test set\n",
    "    for i in range(no_subsets):\n",
    "        train_set = np.concatenate(subarrays[:i] + subarrays[i+1:], axis=0)\n",
    "        test_set = subarrays[i]\n",
    "        \n",
    "        start = timeit.default_timer()\n",
    "        \n",
    "        w, w_epochs = SVM_object.fit(train_set, learning_rate, epochs, regularization)\n",
    "        \n",
    "        stop = timeit.default_timer()\n",
    "        mean_duration += stop - start\n",
    "        \n",
    "        test_labels_pred = SVM_object.predict(test_set, w)\n",
    "        accuracies[i] = check_accuracy(test_set[:,-1], test_labels_pred)\n",
    "    \n",
    "    mean_duration /= no_subsets\n",
    "    # return the average accuracy\n",
    "    return np.mean(accuracies), mean_duration"
   ]
  },
  {
   "cell_type": "markdown",
   "id": "535d8822-a1da-498b-8277-74a4284c414d",
   "metadata": {},
   "source": [
    "# Task 1: Linear SVM"
   ]
  },
  {
   "cell_type": "markdown",
   "id": "b98f6836-c45e-42e2-8e07-640f17be20a1",
   "metadata": {
    "jp-MarkdownHeadingCollapsed": true,
    "tags": []
   },
   "source": [
    "#### Tiny Toy-Dataset"
   ]
  },
  {
   "cell_type": "code",
   "execution_count": 6,
   "id": "77ac0975-93f1-400e-80ec-e6e565294fba",
   "metadata": {},
   "outputs": [],
   "source": [
    "# read the small toy-dataset and apply preconditioning\n",
    "toydata_tiny = pd.read_csv('toydata_tiny.csv').to_numpy()\n",
    "#toydata_tiny = data_process(toydata_tiny)"
   ]
  },
  {
   "cell_type": "code",
   "execution_count": 7,
   "id": "0a631863-a558-497f-8f9d-9f6fbf33e32d",
   "metadata": {},
   "outputs": [],
   "source": [
    "# create the SVM model\n",
    "mySVM_linear_tiny = LinearSVM()\n",
    "regularization = 0.1\n",
    "learning_rate = 1\n",
    "epochs = 10"
   ]
  },
  {
   "cell_type": "code",
   "execution_count": 9,
   "id": "d4abebea-6968-458a-9848-6379228605b0",
   "metadata": {},
   "outputs": [
    {
     "name": "stdout",
     "output_type": "stream",
     "text": [
      "Average time for fitting the model:  0.010706283599998302 s\n",
      "Average Accuracy (Cross Validation): 0.9099999999999999\n"
     ]
    }
   ],
   "source": [
    "# apply 5 fold cross validation. \n",
    "no_subsets = 5\n",
    "cross_val_accuracy, mean_duration = cross_validation(mySVM_linear_tiny, toydata_tiny, no_subsets, learning_rate, epochs, regularization)\n",
    "print('Average time for fitting the model: ', mean_duration, 's')  \n",
    "print(\"Average Accuracy (Cross Validation): \" + str(cross_val_accuracy))"
   ]
  },
  {
   "cell_type": "code",
   "execution_count": 10,
   "id": "14ffcf6c-cc82-4a76-8bec-9e1b5bb5aa55",
   "metadata": {
    "scrolled": true
   },
   "outputs": [
    {
     "data": {
      "image/png": "[encoded data removed]",
      "text/plain": [
       "<Figure size 504x504 with 1 Axes>"
      ]
     },
     "metadata": {
      "needs_background": "light"
     },
     "output_type": "display_data"
    }
   ],
   "source": [
    "# plotting the convergence, i.e. the accuracy over the number of epochs \n",
    "\n",
    "# create random indices from 0 to len(toydata_tiny) \n",
    "idx_arr = np.array(range(len(toydata_tiny)))\n",
    "np.random.shuffle(idx_arr)\n",
    "\n",
    "#set size of testset to be 20% of total dataset\n",
    "testsize = round(0.2 * len(toydata_tiny))\n",
    "\n",
    "#split training and test set from toydata_tiny\n",
    "train_set_tiny = toydata_tiny[idx_arr[:-testsize]]\n",
    "test_set_tiny = toydata_tiny[idx_arr[-testsize:]]\n",
    "\n",
    "# fit the model with the training set\n",
    "w, w_epochs = mySVM_linear_tiny.fit(train_set_tiny , learning_rate, epochs, regularization)\n",
    "\n",
    "# plot the accuracies over epochs\n",
    "mySVM_linear_tiny.plot_accuracies(train_set_tiny,test_set_tiny, w_epochs)"
   ]
  },
  {
   "cell_type": "markdown",
   "id": "77d54a70-f4b0-4ac6-97d6-3017ea5254cf",
   "metadata": {
    "jp-MarkdownHeadingCollapsed": true,
    "tags": []
   },
   "source": [
    "#### Large Toy-Dataset"
   ]
  },
  {
   "cell_type": "code",
   "execution_count": 11,
   "id": "ba5e51bd",
   "metadata": {},
   "outputs": [],
   "source": [
    "# read the large toy-dataset and apply preconditioning\n",
    "toydata_large = pd.read_csv('toydata_large.csv').to_numpy()\n",
    "#toydata_large = data_process(toydata_large)"
   ]
  },
  {
   "cell_type": "code",
   "execution_count": 12,
   "id": "18f125a2",
   "metadata": {
    "tags": []
   },
   "outputs": [],
   "source": [
    "# create the SVM model\n",
    "mySVM_linear_large = LinearSVM()\n",
    "regularization = 0.1\n",
    "learning_rate = 1\n",
    "epochs = 10"
   ]
  },
  {
   "cell_type": "code",
   "execution_count": 14,
   "id": "bab7fc1f-8c77-40cb-950d-d74b82b28f17",
   "metadata": {},
   "outputs": [
    {
     "name": "stdout",
     "output_type": "stream",
     "text": [
      "Average time for fitting the model:  5.915186894599998 s\n",
      "Average Accuracy (Cross Validation): 0.9999749999999998\n"
     ]
    }
   ],
   "source": [
    "# apply 5 fold cross validation. \n",
    "no_subsets = 5\n",
    "\n",
    "cross_val_accuracy, mean_duration = cross_validation(mySVM_linear_large, toydata_large, no_subsets, learning_rate, epochs, regularization)\n",
    "print('Average time for fitting the model: ', mean_duration, 's')  \n",
    "print(\"Average Accuracy (Cross Validation): \" + str(cross_val_accuracy))"
   ]
  },
  {
   "cell_type": "code",
   "execution_count": 15,
   "id": "505e2302-d0b7-4bb2-9efb-c7aaa292a12f",
   "metadata": {},
   "outputs": [
    {
     "data": {
      "image/png": "[encoded data removed]",
      "text/plain": [
       "<Figure size 504x504 with 1 Axes>"
      ]
     },
     "metadata": {
      "needs_background": "light"
     },
     "output_type": "display_data"
    }
   ],
   "source": [
    "# create random indices from 0 to len(toydata_large) \n",
    "idx_arr = np.array(range(len(toydata_large)))\n",
    "np.random.shuffle(idx_arr)\n",
    "\n",
    "#set size of testset to be 20% of total dataset\n",
    "testsize = round(0.2 * len(toydata_large))\n",
    "\n",
    "#split training and test set from toydata_large\n",
    "train_set_large = toydata_large[idx_arr[:-testsize]]\n",
    "test_set_large = toydata_large[idx_arr[-testsize:]]\n",
    "\n",
    "# fit the model with the training set\n",
    "w, w_epochs = mySVM_linear_large.fit(train_set_large, learning_rate, epochs, regularization)\n",
    "\n",
    "# plot the accuracies over epochs\n",
    "mySVM_linear_large.plot_accuracies(train_set_large, test_set_large, w_epochs)"
   ]
  },
  {
   "cell_type": "markdown",
   "id": "0ff70d5d-fb91-4d02-b46b-253448c20205",
   "metadata": {
    "jp-MarkdownHeadingCollapsed": true,
    "tags": []
   },
   "source": [
    "#### MNIST Dataset - Multiclass SVM"
   ]
  },
  {
   "cell_type": "code",
   "execution_count": 16,
   "id": "326e3d05",
   "metadata": {},
   "outputs": [],
   "source": [
    "# reading MNIST Data and preparing it\n",
    "\n",
    "data = np.load(\"mnist.npz\")\n",
    "train = data[\"train\"].T\n",
    "train_labels = data[\"train_labels\"][0]\n",
    "test = data[\"test\"].T\n",
    "test_labels = data[\"test_labels\"][0]\n",
    "\n",
    "# size of the validation set\n",
    "validation_size = 10000\n",
    "\n",
    "# creates a randomly shuffled indices\n",
    "# the 60000 training dataset must be shuffled before a validation set can be separated from it\n",
    "idx_arr = np.array(range(len(train_labels)))\n",
    "np.random.shuffle(idx_arr)\n",
    "\n",
    "# trainig data\n",
    "mnist_train = np.zeros([len(train) - validation_size, len(train[0])+1])\n",
    "mnist_train[:,:-1] = train[idx_arr[:-validation_size]]\n",
    "mnist_train[:,-1] = train_labels[idx_arr[:-validation_size]]\n",
    "\n",
    "# validation data\n",
    "mnist_validation = np.zeros([validation_size, len(train[0])+1])\n",
    "mnist_validation[:,:-1] = train[idx_arr[-validation_size:]]\n",
    "mnist_validation[:,-1] = train_labels[idx_arr[-validation_size:]]"
   ]
  },
  {
   "cell_type": "code",
   "execution_count": 17,
   "id": "b81b1e9f",
   "metadata": {},
   "outputs": [
    {
     "name": "stdout",
     "output_type": "stream",
     "text": [
      "Time for fitting the model:  24.03783469000001\n"
     ]
    }
   ],
   "source": [
    "# Create multiclass model and fit the training data\n",
    "\n",
    "mySVM_linear_mnist = LinearSVM_MC()\n",
    "\n",
    "regularization = 0.1\n",
    "learning_rate = 1\n",
    "epochs = 10\n",
    "\n",
    "start = timeit.default_timer()\n",
    "W, W_epochs = mySVM_linear_mnist.fit(mnist_train, learning_rate, epochs, regularization, n_class=10)\n",
    "stop = timeit.default_timer()\n",
    "\n",
    "print('Time for fitting the model: ', stop - start)  "
   ]
  },
  {
   "cell_type": "code",
   "execution_count": 18,
   "id": "0a3a3eee",
   "metadata": {
    "scrolled": true
   },
   "outputs": [
    {
     "name": "stdout",
     "output_type": "stream",
     "text": [
      "Accuracy of Training Set:  0.86788\n",
      "Accuracy of Validation Set:  0.8554\n"
     ]
    }
   ],
   "source": [
    "# calculate accuracies for training and validation sets\n",
    "\n",
    "train_labels_predicted = mySVM_linear_mnist.predict(mnist_train, W)\n",
    "validation_labels_predicted = mySVM_linear_mnist.predict(mnist_validation, W)\n",
    "\n",
    "print(\"Accuracy of Training Set: \", check_accuracy(mnist_train[:,-1], train_labels_predicted))\n",
    "print(\"Accuracy of Validation Set: \", check_accuracy(mnist_validation[:,-1], validation_labels_predicted))"
   ]
  },
  {
   "cell_type": "code",
   "execution_count": 19,
   "id": "64ef0eef-3fc3-4298-a43c-844cfc0d45ad",
   "metadata": {},
   "outputs": [
    {
     "data": {
      "image/png": "[encoded data removed]",
      "text/plain": [
       "<Figure size 504x504 with 1 Axes>"
      ]
     },
     "metadata": {
      "needs_background": "light"
     },
     "output_type": "display_data"
    },
    {
     "data": {
      "text/plain": [
       "array([[ 939,    0,    3,    4,    0,    2,    8,    0,    5,   21],\n",
       "       [   0, 1066,    7,   11,    0,    3,    0,    1,   13,   13],\n",
       "       [  25,   18,  816,   76,   13,    0,   28,   12,   34,   22],\n",
       "       [   7,    3,    8,  936,    1,   19,    6,   12,   20,   19],\n",
       "       [   4,    2,    0,    3,  800,    0,   15,    2,    0,  147],\n",
       "       [  19,    7,    1,   81,   19,  590,   13,    6,  117,   38],\n",
       "       [  13,    4,    2,    5,   10,   25,  917,    1,   12,    4],\n",
       "       [   3,    2,    3,   18,    6,    0,    3,  895,    6,  152],\n",
       "       [  15,   12,    4,   77,    8,   24,    9,    2,  715,   73],\n",
       "       [  17,    1,    0,   10,   14,    1,    0,   18,    4,  880]])"
      ]
     },
     "execution_count": 19,
     "metadata": {},
     "output_type": "execute_result"
    }
   ],
   "source": [
    "# plot the accuracies over all epochs\n",
    "mySVM_linear_mnist.plot_accuracies(mnist_train, mnist_validation, W_epochs)\n",
    "\n",
    "# print confusion matrix of validation set\n",
    "confusion_matrix(mnist_validation[:,-1], validation_labels_predicted) #,labels=[0,1,2,3,4,5,6,7,8,9]"
   ]
  },
  {
   "cell_type": "markdown",
   "id": "5025fd36-bc6a-4e3b-8eab-fe5d5a3ef78a",
   "metadata": {
    "tags": []
   },
   "source": [
    "# Task 2: Random Fourier Features"
   ]
  },
  {
   "cell_type": "markdown",
   "id": "c5afea7c-4c90-4e77-8628-bd0b7e3924ca",
   "metadata": {
    "jp-MarkdownHeadingCollapsed": true,
    "tags": []
   },
   "source": [
    "#### Functions"
   ]
  },
  {
   "cell_type": "code",
   "execution_count": 20,
   "id": "f54f09e9-d599-4430-b0f1-a778ef29895b",
   "metadata": {},
   "outputs": [],
   "source": [
    "def rff(X_train, gamma, d=300):\n",
    "    \n",
    "    n_samples, n_features = X_train.shape\n",
    "\n",
    " \n",
    "    W = cauchy.rvs(scale = gamma, size=(d,n_features))\n",
    "    b =  2*np.pi*np.random.rand(d)\n",
    "    \n",
    "    X_new_train = np.sqrt(2/d) * np.cos((X_train.dot(W.T) + b[np.newaxis,:]))\n",
    "   \n",
    "    return X_new_train"
   ]
  },
  {
   "cell_type": "code",
   "execution_count": 21,
   "id": "ce742cf8",
   "metadata": {},
   "outputs": [],
   "source": [
    "def process_train_test_data_rff(train_data):\n",
    "\n",
    "    n_samples, n_features = train_data[:,:-1].shape\n",
    "    features_train = rff(train_data, 1/n_features)\n",
    "\n",
    "    return np.c_[features_train,train_data[:,-1:]]"
   ]
  },
  {
   "cell_type": "code",
   "execution_count": 22,
   "id": "9654846e",
   "metadata": {},
   "outputs": [],
   "source": [
    "def rff_MC(X_train,X_val, gamma, d):\n",
    "    \n",
    "    n_samples, n_features = X_train.shape\n",
    "    \n",
    "    # generates random numbers of the distribution function 1/(pi * (1+x^2))\n",
    "    W = cauchy.rvs(scale = gamma, size=(d,n_features))\n",
    "    b =  2*np.pi*np.random.rand(d)\n",
    "\n",
    "    X_new_train = np.sqrt(2/n_features) * np.cos((X_train.dot(W.T) + b[np.newaxis,:]))\n",
    "    X_new_validation = np.sqrt(2/n_features) * np.cos((X_val.dot(W.T) + b[np.newaxis,:]))\n",
    "   \n",
    "    return X_new_train,X_new_validation"
   ]
  },
  {
   "cell_type": "code",
   "execution_count": 23,
   "id": "594f1779",
   "metadata": {},
   "outputs": [],
   "source": [
    "def process_train_test_data_rff_MC(train_data,val_data,d):\n",
    "\n",
    "    n_samples, n_features = train_data.shape\n",
    "    features_train,features_val = rff_MC(train_data,val_data, 1/n_features,d)\n",
    "\n",
    "    return np.c_[features_train,train_data[:,-1]], np.c_[features_val,val_data[:,-1]]"
   ]
  },
  {
   "cell_type": "markdown",
   "id": "5455863e-e85e-4ca0-8826-fef07adc95ba",
   "metadata": {
    "jp-MarkdownHeadingCollapsed": true,
    "tags": []
   },
   "source": [
    "#### Small Toy-Dataset"
   ]
  },
  {
   "cell_type": "code",
   "execution_count": 24,
   "id": "dd9c6ab4",
   "metadata": {},
   "outputs": [],
   "source": [
    "# read the small toy-dataset and apply preconditioning\n",
    "rff_toydata_tiny = pd.read_csv('toydata_tiny.csv').to_numpy()\n",
    "rff_toydata_tiny = data_process(rff_toydata_tiny)\n",
    "\n",
    "rff_toydata_tiny = process_train_test_data_rff(rff_toydata_tiny)"
   ]
  },
  {
   "cell_type": "code",
   "execution_count": 25,
   "id": "8845b38a-89ef-45ea-9d1f-58850676eee8",
   "metadata": {},
   "outputs": [],
   "source": [
    "# create the SVM model\n",
    "mySVM_rff_tiny = LinearSVM()\n",
    "regularization = 0.1\n",
    "learning_rate = 1\n",
    "epochs = 10"
   ]
  },
  {
   "cell_type": "code",
   "execution_count": 26,
   "id": "7ebbd0a4-6df0-4555-b714-1381601bddaa",
   "metadata": {},
   "outputs": [
    {
     "name": "stdout",
     "output_type": "stream",
     "text": [
      "Average time for fitting the model:  0.011421177199997601 s\n",
      "Average Accuracy: 1.0\n"
     ]
    }
   ],
   "source": [
    "# apply 5 fold cross validation. \n",
    "no_subsets = 5\n",
    "cross_val_accuracy, mean_duration = cross_validation(mySVM_rff_tiny, rff_toydata_tiny, no_subsets, learning_rate, epochs, regularization)\n",
    "print('Average time for fitting the model: ', mean_duration, 's')  \n",
    "print(\"Average Accuracy: \" + str(cross_val_accuracy))"
   ]
  },
  {
   "cell_type": "code",
   "execution_count": 27,
   "id": "0e633a39-f836-46b0-8108-772eaae16b72",
   "metadata": {},
   "outputs": [
    {
     "data": {
      "image/png": "[encoded data removed]",
      "text/plain": [
       "<Figure size 504x504 with 1 Axes>"
      ]
     },
     "metadata": {
      "needs_background": "light"
     },
     "output_type": "display_data"
    }
   ],
   "source": [
    "# plotting the convergence, i.e. the accuracy over the number of epochs \n",
    "\n",
    "# create random indices from 0 to len(toydata_tiny) \n",
    "idx_arr = np.array(range(len(rff_toydata_tiny)))\n",
    "np.random.shuffle(idx_arr)\n",
    "\n",
    "#set size of testset to be 20% of total dataset\n",
    "testsize = round(0.2 * len(rff_toydata_tiny))\n",
    "\n",
    "#split training and test set from rff_toydata_tiny\n",
    "rff_train_set_tiny = rff_toydata_tiny[idx_arr[:-testsize]]\n",
    "rff_test_set_tiny = rff_toydata_tiny[idx_arr[-testsize:]]\n",
    "\n",
    "\"\"\" t0 = time.time()\n",
    "clf = LinearSVC(dual=False)\n",
    "clf.fit(new_train_X, train_set_tiny[:,-1])\n",
    "print(\"done in %0.3fs\" % (time.time() - t0))\n",
    "\n",
    "t1 = time.time()\n",
    "accuracy = clf.score(new_test_X, test_set_tiny[:,-1])\n",
    "print(\"done in %0.3fs\" % (time.time() - t1))\n",
    "print(\"classification accuracy: %0.3f\" % accuracy)\n",
    "\"\"\"\n",
    "\n",
    "# fit the model with the training set\n",
    "w, w_epochs = mySVM_rff_tiny.fit(rff_train_set_tiny , learning_rate, epochs, regularization)\n",
    "\n",
    "# plot the accuracies over epochs\n",
    "mySVM_rff_tiny.plot_accuracies(rff_train_set_tiny,rff_test_set_tiny, w_epochs)"
   ]
  },
  {
   "cell_type": "markdown",
   "id": "6bee4361-35bb-4f0e-ae88-6ba7150fab1c",
   "metadata": {
    "jp-MarkdownHeadingCollapsed": true,
    "tags": []
   },
   "source": [
    "#### Large Toy-Dataset"
   ]
  },
  {
   "cell_type": "code",
   "execution_count": 28,
   "id": "4dcac451-2524-495e-a8ce-9992c3496e10",
   "metadata": {},
   "outputs": [],
   "source": [
    "# read the large toy-dataset and apply preconditioning\n",
    "rff_toydata_large = pd.read_csv('toydata_large.csv').to_numpy()\n",
    "rff_toydata_large = data_process(rff_toydata_large)\n",
    "rff_toydata_large = process_train_test_data_rff(rff_toydata_large)"
   ]
  },
  {
   "cell_type": "code",
   "execution_count": 29,
   "id": "fbec22a9-e6cf-4813-bdc5-ee81436b84cd",
   "metadata": {},
   "outputs": [],
   "source": [
    "# create the SVM model\n",
    "mySVM_rff_large = LinearSVM()\n",
    "regularization = 0.1\n",
    "learning_rate = 1\n",
    "epochs = 10"
   ]
  },
  {
   "cell_type": "code",
   "execution_count": 30,
   "id": "c48b2281-15b9-4037-b78f-8ee0c3de40f0",
   "metadata": {},
   "outputs": [
    {
     "name": "stdout",
     "output_type": "stream",
     "text": [
      "Average time for fitting the model:  11.05861103960001 s\n",
      "Average Accuracy: 1.0\n"
     ]
    }
   ],
   "source": [
    "# apply 5 fold cross validation. \n",
    "no_subsets = 5\n",
    "\n",
    "cross_val_accuracy, mean_duration = cross_validation(mySVM_rff_large, rff_toydata_large, no_subsets, learning_rate, epochs, regularization)\n",
    "print('Average time for fitting the model: ', mean_duration, 's')  \n",
    "print(\"Average Accuracy: \" + str(cross_val_accuracy))"
   ]
  },
  {
   "cell_type": "code",
   "execution_count": 31,
   "id": "274587f9-4143-4336-b142-f8da071ace71",
   "metadata": {},
   "outputs": [
    {
     "data": {
      "image/png": "[encoded data removed]",
      "text/plain": [
       "<Figure size 504x504 with 1 Axes>"
      ]
     },
     "metadata": {
      "needs_background": "light"
     },
     "output_type": "display_data"
    }
   ],
   "source": [
    "# create random indices from 0 to len(toydata_large) \n",
    "idx_arr = np.array(range(len(rff_toydata_large)))\n",
    "np.random.shuffle(idx_arr)\n",
    "\n",
    "#set size of testset to be 20% of total dataset\n",
    "testsize = round(0.2 * len(rff_toydata_large))\n",
    "\n",
    "#split training and test set from toydata_large\n",
    "rff_train_set_large = rff_toydata_large[idx_arr[:-testsize]]\n",
    "rff_test_set_large = rff_toydata_large[idx_arr[-testsize:]]\n",
    "\n",
    "# fit the model with the training set\n",
    "w, w_epochs = mySVM_rff_large.fit(rff_train_set_large, learning_rate, epochs, regularization)\n",
    "\n",
    "# plot the accuracies over epochs\n",
    "mySVM_rff_large.plot_accuracies(rff_train_set_large, rff_test_set_large, w_epochs)"
   ]
  },
  {
   "cell_type": "markdown",
   "id": "add5a010-a6ca-4c59-bdeb-af064bf140a3",
   "metadata": {
    "jp-MarkdownHeadingCollapsed": true,
    "tags": []
   },
   "source": [
    "#### MNIST Dataset - Multiclass SVM"
   ]
  },
  {
   "cell_type": "code",
   "execution_count": 32,
   "id": "cfde1e4e-a948-49e3-8593-e64e830d2139",
   "metadata": {},
   "outputs": [],
   "source": [
    "# reading MNIST data from file and preparing it\n",
    "\n",
    "data = np.load(\"mnist.npz\")\n",
    "train = data[\"train\"].T\n",
    "train_labels = data[\"train_labels\"][0]\n",
    "test = data[\"test\"].T\n",
    "test_labels = data[\"test_labels\"][0]\n",
    "\n",
    "# size of the validation set\n",
    "validation_size = 10000\n",
    "\n",
    "# creates randomly shuffled indices\n",
    "# the 60000 training dataset must be shuffled before a validation set can be separated from it\n",
    "idx_arr = np.array(range(len(train_labels)))\n",
    "np.random.shuffle(idx_arr)\n",
    "\n",
    "# trainig data\n",
    "mnist_train = np.zeros([len(train) - validation_size, len(train[0])+1])\n",
    "mnist_train[:,:-1] = train[idx_arr[:-validation_size]]\n",
    "mnist_train[:,-1] = train_labels[idx_arr[:-validation_size]]\n",
    "\n",
    "# validation data\n",
    "mnist_validation = np.zeros([validation_size, len(train[0])+1])\n",
    "mnist_validation[:,:-1] = train[idx_arr[-validation_size:]]\n",
    "mnist_validation[:,-1] = train_labels[idx_arr[-validation_size:]]\n",
    "\n",
    "# test data (never touch unless for final validation)\n",
    "#mnist_test = np.zeros([len(test), len(test[0])+1])\n",
    "#mnist_test[:,:-1] = test\n",
    "#mnist_test[:,-1] = test_labels\n",
    "\n",
    "rff_mnist_train,rff_mnist_validation  = process_train_test_data_rff_MC(mnist_train,mnist_validation,2000)"
   ]
  },
  {
   "cell_type": "code",
   "execution_count": 36,
   "id": "cc63a89f-8da4-4252-b846-e8a9c2e9c476",
   "metadata": {},
   "outputs": [
    {
     "name": "stdout",
     "output_type": "stream",
     "text": [
      "Time for fitting the model:  50.41997430799995\n"
     ]
    }
   ],
   "source": [
    "# Create multiclass model and fit the training data\n",
    "\n",
    "mySVM_rff_mnist = LinearSVM_MC()\n",
    "\n",
    "regularization = 0.1\n",
    "learning_rate = 1\n",
    "epochs = 10\n",
    "\n",
    "start = timeit.default_timer()\n",
    "W, W_epochs = mySVM_rff_mnist.fit(rff_mnist_train, learning_rate, epochs, regularization, n_class=10)\n",
    "stop = timeit.default_timer()\n",
    "\n",
    "print('Time for fitting the model: ', stop - start)\n",
    "\n",
    "# calculate accuracies for training and validation sets\n",
    "\n",
    "#train_labels_predicted = mySVM_rff_mnist.predict(rff_mnist_train, W)\n",
    "#validation_labels_predicted = mySVM_rff_mnist.predict(rff_mnist_validation, W)\n",
    "#print(\"Accuracy of Training Set: \", check_accuracy(rff_mnist_train[:,-1], train_labels_predicted))\n",
    "#print(\"Accuracy of Validation Set: \", check_accuracy(rff_mnist_validation[:,-1], validation_labels_predicted))"
   ]
  },
  {
   "cell_type": "code",
   "execution_count": 34,
   "id": "3ecbd7b5-42e0-43fa-9bc3-cec867b93393",
   "metadata": {},
   "outputs": [
    {
     "name": "stdout",
     "output_type": "stream",
     "text": [
      "[0.16412, 0.1434, 0.14692]\n"
     ]
    }
   ],
   "source": [
    "# I am no so sure what this does (Jakob)\n",
    "\n",
    "accuracies = []\n",
    "for k in range(3):\n",
    "    d = 10**k\n",
    "    new_mnist_train,rff_mnist_validation  = process_train_test_data_rff_MC(mnist_train,mnist_validation,d)\n",
    "    W, W_epochs = mySVM_rff_mnist.fit(rff_mnist_train, learning_rate, epochs, regularization, n_class=10)\n",
    "    train_labels_predicted = mySVM_rff_mnist.predict(rff_mnist_train, W)\n",
    "    accuracies.append(check_accuracy(rff_mnist_train[:,-1], train_labels_predicted))\n",
    "print(accuracies)  "
   ]
  },
  {
   "cell_type": "code",
   "execution_count": 39,
   "id": "c6e90fb6-ebbf-40cb-ba8a-50487a851b50",
   "metadata": {},
   "outputs": [],
   "source": [
    "# plot the accuracies over all epochs\n",
    "#mySVM_rff_mnist.plot_accuracies(rff_mnist_train, rff_mnist_validation, W_epochs)\n",
    "\n",
    "# print confusion matrix of validation set\n",
    "#confusion_matrix(rff_mnist_validation[:,-1], validation_labels_predicted) #,labels=[0,1,2,3,4,5,6,7,8,9]"
   ]
  },
  {
   "cell_type": "markdown",
   "id": "df34ff67-0d3c-4f7e-b3ce-7bc4919cba41",
   "metadata": {},
   "source": [
    "# Task 3: Parallel SVM\n",
    "please insert code for task 3 here"
   ]
  }
 ],
 "metadata": {
  "kernelspec": {
   "display_name": "Python 3 (ipykernel)",
   "language": "python",
   "name": "python3"
  },
  "language_info": {
   "codemirror_mode": {
    "name": "ipython",
    "version": 3
   },
   "file_extension": ".py",
   "mimetype": "text/x-python",
   "name": "python",
   "nbconvert_exporter": "python",
   "pygments_lexer": "ipython3",
   "version": "3.8.11"
  }
 },
 "nbformat": 4,
 "nbformat_minor": 5
}
