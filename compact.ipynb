{
 "cells": [
  {
   "cell_type": "code",
   "execution_count": 1,
   "id": "7569bda1",
   "metadata": {},
   "outputs": [],
   "source": [
    "import numpy as np\n",
    "import pandas as pd\n",
    "import matplotlib.pyplot as plt\n",
    "from scipy.optimize import minimize\n",
    "import sklearn.preprocessing\n",
    "from sklearn.metrics import confusion_matrix\n",
    "import timeit"
   ]
  },
  {
   "cell_type": "code",
   "execution_count": 2,
   "id": "61c54e7d",
   "metadata": {},
   "outputs": [],
   "source": [
    "def data_process(data):\n",
    "    features = data[:,:-1]\n",
    "    #features = sklearn.preprocessing.StandardScaler().fit_transform(features)\n",
    "    #features = sklearn.preprocessing.normalize(features)\n",
    "    data[:,:-1] = features\n",
    "    return data\n",
    "\n",
    "def accuracy(y, y_pred):\n",
    "    return sum(y == y_pred)/len(y)\n",
    "\n",
    "def mc_hinge(W,x,y):\n",
    "\n",
    "    '''\n",
    "    w_i - vector of weights of the SVM for the class i; W has |features| rows and |classes| columns\n",
    "    x - features of a sample\n",
    "    y - label of a sample\n",
    "    loss = max{0, max(w_j*x - w_y*x)}, j={0,...,|classes|-1}, j!=y\n",
    "    output - hingle loss value and the corresponding w_j index\n",
    "    '''\n",
    "\n",
    "    n_features, n_class = np.shape(W)\n",
    "    wyx = W[:,y].dot(x)\n",
    "    max_dif = - np.inf\n",
    "    ind_j = 0\n",
    "\n",
    "    for j in [i for i in range(n_class) if i != y]:\n",
    "        wjx = W[:,j].dot(x)\n",
    "        if wjx > max_dif:\n",
    "            max_dif = wjx\n",
    "            ind_j = j\n",
    "\n",
    "    max_dif -= wyx\n",
    "\n",
    "    if max_dif > 0:\n",
    "        return 1 + max_dif, ind_j\n",
    "    else:\n",
    "        return 0, -1"
   ]
  },
  {
   "cell_type": "code",
   "execution_count": 11,
   "id": "79dabaa5",
   "metadata": {},
   "outputs": [],
   "source": [
    "class LinearSVM:\n",
    "            \n",
    "    def fit(self, dataset, learning_rate, epochs, regularization):\n",
    "        \n",
    "        # adding ones at the end of each feature vector\n",
    "        dataset = np.insert(dataset, -1, np.ones(len(dataset)), axis=1)\n",
    "        \n",
    "        size = len(dataset[0])-1\n",
    "        n = len(dataset)\n",
    "        \n",
    "        w = np.random.rand(size)        \n",
    "        w_epochs = np.zeros((epochs, size))       \n",
    "        \n",
    "        X = dataset[:,:-1]\n",
    "        Y = dataset[:,-1]\n",
    "        \n",
    "        for i in range(epochs):\n",
    "            \n",
    "            shuffle = np.random.permutation(n)\n",
    "            X = X[shuffle]\n",
    "            Y = Y[shuffle]\n",
    "                        \n",
    "            for j in range(len(dataset)):\n",
    "\n",
    "                x = X[j]                \n",
    "                y = Y[j]\n",
    "        \n",
    "                ywx = y * w.dot(x) \n",
    "                    \n",
    "                if ywx < 1:\n",
    "                    gradient = (2 * regularization * w) / n - y*x\n",
    "                else:\n",
    "                    gradient = (2 * regularization * w) / n\n",
    "                \n",
    "                w = w - learning_rate * gradient\n",
    "            \n",
    "            w_epochs[i] = w\n",
    "        \n",
    "        return w, w_epochs\n",
    "        \n",
    "    def predict(self, dataset, w):\n",
    "        # adding ones at the end of each feature vector\n",
    "        dataset = np.insert(dataset, -1, np.ones(len(dataset)), axis=1)\n",
    "\n",
    "        y = np.zeros(len(dataset)) \n",
    "        dataset = dataset[:,:-1]\n",
    "        \n",
    "        for i in range(len(dataset)):\n",
    "            y[i] = np.sign(np.dot(dataset[i],w))\n",
    "        return y\n",
    "    \n",
    "    def plot_accuracies(self, train_dataset, test_dataset, w_epochs):\n",
    "        epochs = len(w_epochs)\n",
    "        test_accuracies = np.zeros(epochs)\n",
    "        train_accuracies = np.zeros(epochs)\n",
    "        for i in range(epochs):\n",
    "            train_labels = self.predict(train_dataset, w_epochs[i])\n",
    "            test_labels = self.predict(test_dataset, w_epochs[i])\n",
    "            train_accuracies[i] = accuracy(train_dataset[:,-1], train_labels)\n",
    "            test_accuracies[i] = accuracy(test_dataset[:,-1], test_labels)\n",
    "            \n",
    "\n",
    "        xs = np.array(range(epochs))+1\n",
    "        fig = plt.figure(figsize=(7,7))\n",
    "        ax = plt.axes()\n",
    "        ax.set(xlabel=\"epochs\", ylabel=\"accuracy\", ylim=(0,1.1))\n",
    "        line = ax.plot(xs, train_accuracies, marker='.', label='training') #, marker='o'\n",
    "        line = ax.plot(xs, test_accuracies, marker='.', label='validation') #, marker='o'\n",
    "        ax.legend()\n",
    "        plt.title(\"Accuracy over Epochs\")\n",
    "        plt.show()\n",
    "\n"
   ]
  },
  {
   "cell_type": "code",
   "execution_count": 22,
   "id": "e679df2f",
   "metadata": {},
   "outputs": [],
   "source": [
    "class LinearSVM_MC:\n",
    "    \n",
    "        \n",
    "    def fit(self, dataset, learning_rate, epochs, regularization, n_class):\n",
    "        # adding ones at the end of each feature vector\n",
    "        dataset = np.insert(dataset, -1, np.ones(len(dataset)), axis=1)\n",
    "        \n",
    "        size = len(dataset[0])-1\n",
    "        n = len(dataset)\n",
    "        \n",
    "        W = np.random.rand(size, n_class)       \n",
    "        \n",
    "        # this array stores the W matrix after each epoch\n",
    "        W_epochs = np.zeros((epochs, size, n_class))       \n",
    "        \n",
    "        w_norms = []\n",
    "\n",
    "        X = dataset[:,:-1]\n",
    "        Y = dataset[:,-1]\n",
    "        \n",
    "        for i in range(epochs):\n",
    "            \n",
    "            shuffle = np.random.permutation(n)\n",
    "            X = X[shuffle]\n",
    "            Y = Y[shuffle]\n",
    "            \n",
    "            for j in range(len(dataset)):\n",
    "                x = X[j]                \n",
    "                y = int(Y[j])\n",
    "                \n",
    "                gradient = np.zeros([size, n_class])\n",
    "        \n",
    "                temp, k = mc_hinge(W, x, y)\n",
    "                    \n",
    "                if temp > 0:\n",
    "                    \n",
    "                    gradient[:,y] = -x\n",
    "\n",
    "                    gradient[:,k] = x\n",
    "                    \n",
    "                \n",
    "                W = W - learning_rate * (gradient + (2 * regularization * W) / n)\n",
    "                \n",
    "                \n",
    "                '''\n",
    "                W = W - learning_rate * gradient / n\n",
    "                \n",
    "                temp = np.linalg.norm(W, ord='fro')\n",
    "                if temp > 1/regularization:\n",
    "                    W /= (temp * regularization)\n",
    "                '''\n",
    "            W_epochs[i] = W\n",
    "            \n",
    "        w_norms = np.array(w_norms)\n",
    "        \n",
    "        return W, W_epochs\n",
    "        \n",
    "    def predict(self, dataset, W):\n",
    "        # adding ones at the end of each feature vector\n",
    "        dataset = np.insert(dataset, -1, np.ones(len(dataset)), axis=1)\n",
    "        \n",
    "        y = np.zeros(len(dataset)) \n",
    "        dataset = dataset[:,:-1]\n",
    "\n",
    "        for i in range(len(dataset)):\n",
    "            y[i] = np.argmax(np.dot(W.T, dataset[i]))\n",
    "        return y\n",
    "    \n",
    "    \n",
    "    def plot_accuracies(self, train_dataset, test_dataset, W_epochs):\n",
    "        epochs = len(W_epochs)\n",
    "        test_accuracies = np.zeros(epochs)\n",
    "        train_accuracies = np.zeros(epochs)\n",
    "        for i in range(epochs):\n",
    "            train_labels = self.predict(train_dataset, W_epochs[i])\n",
    "            test_labels = self.predict(test_dataset, W_epochs[i])\n",
    "            train_accuracies[i] = accuracy(train_dataset[:,-1], train_labels)\n",
    "            test_accuracies[i] = accuracy(test_dataset[:,-1], test_labels)\n",
    "            \n",
    "\n",
    "        xs = np.array(range(epochs))+1\n",
    "        fig = plt.figure(figsize=(7,7))\n",
    "        ax = plt.axes()\n",
    "        ax.set(xlabel=\"epochs\", ylabel=\"accuracy\", ylim=(0,1.1))\n",
    "        line = ax.plot(xs, train_accuracies, marker='.', label='training') #, marker='o'\n",
    "        line = ax.plot(xs, test_accuracies, marker='.', label='validation') #, marker='o'\n",
    "        ax.legend()\n",
    "        plt.title(\"Accuracy over Epochs\")\n",
    "        plt.show()\n"
   ]
  },
  {
   "cell_type": "code",
   "execution_count": 13,
   "id": "ac432987-8412-4e89-ba76-220d9dbeeae0",
   "metadata": {},
   "outputs": [],
   "source": [
    "def cross_validation(SVM_object, dataset, no_subsets, learning_rate, epochs, regularization):\n",
    "    accuracies = np.zeros(no_subsets)\n",
    "    mean_duration = 0\n",
    "    # split dataset into no_subsets chunks. Chunks must be of euqal size, otherwise an error is raised\n",
    "    subarrays = np.split(dataset, no_subsets, axis=0)\n",
    "    \n",
    "    # pick one subset as test set and train the model with the rest. Then calculate the accuracy on the test set\n",
    "    for i in range(no_subsets):\n",
    "        train_set = np.concatenate(subarrays[:i] + subarrays[i+1:], axis=0)\n",
    "        test_set = subarrays[i]\n",
    "        \n",
    "        start = timeit.default_timer()\n",
    "        \n",
    "        w, w_epochs = SVM_object.fit(train_set, learning_rate, epochs, regularization)\n",
    "        \n",
    "        stop = timeit.default_timer()\n",
    "        mean_duration += stop - start\n",
    "        \n",
    "        test_labels_pred = SVM_object.predict(test_set, w)\n",
    "        accuracies[i] = accuracy(test_set[:,-1], test_labels_pred)\n",
    "    \n",
    "    mean_duration /= no_subsets\n",
    "    # return the average accuracy\n",
    "    return np.mean(accuracies), mean_duration"
   ]
  },
  {
   "cell_type": "markdown",
   "id": "11ba73b7-dc05-4a31-a2ad-dafac1c49a28",
   "metadata": {},
   "source": [
    "### Dual-Class linear SVM"
   ]
  },
  {
   "cell_type": "markdown",
   "id": "b98f6836-c45e-42e2-8e07-640f17be20a1",
   "metadata": {},
   "source": [
    "#### Tiny Toy-Dataset"
   ]
  },
  {
   "cell_type": "code",
   "execution_count": 14,
   "id": "77ac0975-93f1-400e-80ec-e6e565294fba",
   "metadata": {},
   "outputs": [],
   "source": [
    "# read the small toy-dataset and apply preconditioning\n",
    "toydata_tiny = pd.read_csv('toydata_tiny.csv').to_numpy()\n",
    "toydata_tiny = data_process(toydata_tiny)"
   ]
  },
  {
   "cell_type": "code",
   "execution_count": 15,
   "id": "0a631863-a558-497f-8f9d-9f6fbf33e32d",
   "metadata": {},
   "outputs": [],
   "source": [
    "# create the SVM model and fit set the parameters\n",
    "mySVM_tiny = LinearSVM()\n",
    "regularization = 0.1\n",
    "learning_rate = 1\n",
    "epochs = 10"
   ]
  },
  {
   "cell_type": "code",
   "execution_count": 16,
   "id": "d4abebea-6968-458a-9848-6379228605b0",
   "metadata": {},
   "outputs": [
    {
     "name": "stdout",
     "output_type": "stream",
     "text": [
      "Average time for fitting the model:  0.009398538399997847 s\n",
      "Average Accuracy: 0.9949999999999999\n"
     ]
    }
   ],
   "source": [
    "# apply 5 fold cross validation. \n",
    "no_subsets = 5\n",
    "cross_val_accuracy, mean_duration = cross_validation(mySVM_tiny, toydata_tiny, no_subsets, learning_rate, epochs, regularization)\n",
    "print('Average time for fitting the model: ', mean_duration, 's')  \n",
    "print(\"Average Accuracy: \" + str(cross_val_accuracy))"
   ]
  },
  {
   "cell_type": "markdown",
   "id": "ffb9421f-c25b-4864-9624-c56636b7330b",
   "metadata": {},
   "source": [
    "plotting the convergence, i.e. the accuracy over the number of epochs "
   ]
  },
  {
   "cell_type": "code",
   "execution_count": 17,
   "id": "14ffcf6c-cc82-4a76-8bec-9e1b5bb5aa55",
   "metadata": {},
   "outputs": [
    {
     "data": {
      "image/png": "[encoded data removed]",
      "text/plain": [
       "<Figure size 504x504 with 1 Axes>"
      ]
     },
     "metadata": {
      "needs_background": "light"
     },
     "output_type": "display_data"
    }
   ],
   "source": [
    "# create random indices from 0 to len(toydata_tiny) \n",
    "idx_arr = np.array(range(len(toydata_tiny)))\n",
    "np.random.shuffle(idx_arr)\n",
    "\n",
    "#set size of testset to be 20% of total dataset\n",
    "testsize = round(0.2 * len(toydata_tiny))\n",
    "\n",
    "#split training and test set from toydata_tiny\n",
    "train_set_tiny = toydata_tiny[idx_arr[:-testsize]]\n",
    "test_set_tiny = toydata_tiny[idx_arr[-testsize:]]\n",
    "\n",
    "# fit the model with the training set\n",
    "w, w_epochs = mySVM_tiny.fit(train_set_tiny, learning_rate, epochs, regularization)\n",
    "\n",
    "# plot the accuracies over epochs\n",
    "mySVM_tiny.plot_accuracies(train_set_tiny, test_set_tiny, w_epochs)"
   ]
  },
  {
   "cell_type": "markdown",
   "id": "77d54a70-f4b0-4ac6-97d6-3017ea5254cf",
   "metadata": {},
   "source": [
    "#### Large Toy-Dataset"
   ]
  },
  {
   "cell_type": "code",
   "execution_count": 18,
   "id": "ba5e51bd",
   "metadata": {},
   "outputs": [],
   "source": [
    "# read the large toy-dataset and apply preconditioning\n",
    "toydata_large = pd.read_csv('toydata_large.csv').to_numpy()\n",
    "toydata_large = data_process(toydata_large)"
   ]
  },
  {
   "cell_type": "code",
   "execution_count": 19,
   "id": "18f125a2",
   "metadata": {
    "tags": []
   },
   "outputs": [],
   "source": [
    "# create the SVM model and fit set the parameters\n",
    "mySVM_large = LinearSVM()\n",
    "regularization = 0.1\n",
    "learning_rate = 1\n",
    "epochs = 10"
   ]
  },
  {
   "cell_type": "code",
   "execution_count": 20,
   "id": "bab7fc1f-8c77-40cb-950d-d74b82b28f17",
   "metadata": {},
   "outputs": [
    {
     "name": "stdout",
     "output_type": "stream",
     "text": [
      "Average time for fitting the model:  6.67793495520001 s\n",
      "Average Accuracy: 0.9999649999999999\n"
     ]
    }
   ],
   "source": [
    "# apply 5 fold cross validation. \n",
    "no_subsets = 5\n",
    "\n",
    "\n",
    "cross_val_accuracy, mean_duration = cross_validation(mySVM_large, toydata_large, no_subsets, learning_rate, epochs, regularization)\n",
    "\n",
    "\n",
    "print('Average time for fitting the model: ', mean_duration, 's')  \n",
    "\n",
    "print(\"Average Accuracy: \" + str(cross_val_accuracy))"
   ]
  },
  {
   "cell_type": "code",
   "execution_count": 21,
   "id": "505e2302-d0b7-4bb2-9efb-c7aaa292a12f",
   "metadata": {},
   "outputs": [
    {
     "data": {
      "image/png": "[encoded data removed]",
      "text/plain": [
       "<Figure size 504x504 with 1 Axes>"
      ]
     },
     "metadata": {
      "needs_background": "light"
     },
     "output_type": "display_data"
    }
   ],
   "source": [
    "# create random indices from 0 to len(toydata_large) \n",
    "idx_arr = np.array(range(len(toydata_large)))\n",
    "np.random.shuffle(idx_arr)\n",
    "\n",
    "#set size of testset to be 20% of total dataset\n",
    "testsize = round(0.2 * len(toydata_large))\n",
    "\n",
    "#split training and test set from toydata_tiny\n",
    "train_set_large = toydata_large[idx_arr[:-testsize]]\n",
    "test_set_large = toydata_large[idx_arr[-testsize:]]\n",
    "\n",
    "# fit the model with the training set\n",
    "w, w_epochs = mySVM_large.fit(train_set_large, learning_rate, epochs, regularization)\n",
    "\n",
    "# plot the accuracies over epochs\n",
    "mySVM_large.plot_accuracies(train_set_large, test_set_large, w_epochs)"
   ]
  },
  {
   "cell_type": "markdown",
   "id": "e5e47552-d2d5-400c-ba2c-f59e5ee3c8f0",
   "metadata": {},
   "source": [
    "### Multiclass SVM"
   ]
  },
  {
   "cell_type": "markdown",
   "id": "0ff70d5d-fb91-4d02-b46b-253448c20205",
   "metadata": {},
   "source": [
    "#### MNIST Dataset"
   ]
  },
  {
   "cell_type": "code",
   "execution_count": 23,
   "id": "326e3d05",
   "metadata": {},
   "outputs": [],
   "source": [
    "# reading MNIST Date from file\n",
    "data = np.load(\"mnist.npz\")\n",
    "train = data[\"train\"].T\n",
    "train_labels = data[\"train_labels\"][0]\n",
    "test = data[\"test\"].T\n",
    "test_labels = data[\"test_labels\"][0]\n",
    "\n",
    "# size of the validation set\n",
    "validation_size = 10000\n",
    "\n",
    "# creates a randomly shuffled indices\n",
    "# the 60000 training dataset must be shuffled before a validation set can be separated from it\n",
    "idx_arr = np.array(range(len(train_labels)))\n",
    "np.random.shuffle(idx_arr)\n",
    "\n",
    "# trainig data\n",
    "mnist_train = np.zeros([len(train) - validation_size, len(train[0])+1])\n",
    "mnist_train[:,:-1] = train[idx_arr[:-validation_size]]\n",
    "mnist_train[:,-1] = train_labels[idx_arr[:-validation_size]]\n",
    "\n",
    "# validation data\n",
    "mnist_validation = np.zeros([validation_size, len(train[0])+1])\n",
    "mnist_validation[:,:-1] = train[idx_arr[-validation_size:]]\n",
    "mnist_validation[:,-1] = train_labels[idx_arr[-validation_size:]]\n",
    "\n",
    "# test data (never touch)\n",
    "#mnist_test = np.zeros([len(test), len(test[0])+1])\n",
    "#mnist_test[:,:-1] = test\n",
    "#mnist_test[:,-1] = test_labels"
   ]
  },
  {
   "cell_type": "code",
   "execution_count": 24,
   "id": "b81b1e9f",
   "metadata": {},
   "outputs": [
    {
     "name": "stdout",
     "output_type": "stream",
     "text": [
      "Time for fitting the model:  23.068756132000004\n"
     ]
    }
   ],
   "source": [
    "mySVM2 = LinearSVM_MC()\n",
    "regularization = 0.1\n",
    "learning_rate = 1\n",
    "epochs = 10\n",
    "\n",
    "start = timeit.default_timer()\n",
    "W, W_epochs = mySVM2.fit(mnist_train, learning_rate, epochs, regularization, n_class=10)\n",
    "stop = timeit.default_timer()\n",
    "\n",
    "print('Time for fitting the model: ', stop - start)  "
   ]
  },
  {
   "cell_type": "code",
   "execution_count": 25,
   "id": "0a3a3eee",
   "metadata": {},
   "outputs": [
    {
     "data": {
      "text/plain": [
       "0.84802"
      ]
     },
     "execution_count": 25,
     "metadata": {},
     "output_type": "execute_result"
    }
   ],
   "source": [
    "train_labels_predicted = mySVM2.predict(mnist_train, W)\n",
    "accuracy(mnist_train[:,-1], train_labels_predicted)"
   ]
  },
  {
   "cell_type": "code",
   "execution_count": 26,
   "id": "95ea95c5",
   "metadata": {},
   "outputs": [
    {
     "data": {
      "text/plain": [
       "0.8369"
      ]
     },
     "execution_count": 26,
     "metadata": {},
     "output_type": "execute_result"
    }
   ],
   "source": [
    "validation_labels_predicted = mySVM2.predict(mnist_validation, W)\n",
    "accuracy(mnist_validation[:,-1], validation_labels_predicted)"
   ]
  },
  {
   "cell_type": "code",
   "execution_count": 27,
   "id": "64ef0eef-3fc3-4298-a43c-844cfc0d45ad",
   "metadata": {},
   "outputs": [
    {
     "data": {
      "image/png": "[encoded data removed]",
      "text/plain": [
       "<Figure size 504x504 with 1 Axes>"
      ]
     },
     "metadata": {
      "needs_background": "light"
     },
     "output_type": "display_data"
    }
   ],
   "source": [
    "mySVM2.plot_accuracies(mnist_train, mnist_validation, W_epochs)"
   ]
  },
  {
   "cell_type": "code",
   "execution_count": 28,
   "id": "1835ddd9-8195-4d04-a2ae-b19f10d19d98",
   "metadata": {},
   "outputs": [
    {
     "data": {
      "text/plain": [
       "array([[ 811,    1,   19,    1,    0,  113,   18,    4,   12,    1],\n",
       "       [   0, 1044,   45,    3,    0,   26,    1,    4,    6,    0],\n",
       "       [   1,    1,  953,    6,    3,   12,   17,    8,   10,    1],\n",
       "       [   0,    4,   81,  708,    0,  190,    4,   18,   17,   13],\n",
       "       [   1,    3,   24,    2,  718,   10,   46,   14,   40,   81],\n",
       "       [  12,    4,   17,    9,    3,  815,   10,    7,   22,    4],\n",
       "       [   3,    2,    7,    0,    1,   43,  914,    0,    3,    1],\n",
       "       [   2,    4,   51,    2,    3,    2,    3,  964,    4,   32],\n",
       "       [   2,   13,   78,   10,    0,  177,   16,    3,  685,    4],\n",
       "       [   1,    3,    9,    3,   19,   53,    1,  103,   24,  757]])"
      ]
     },
     "execution_count": 28,
     "metadata": {},
     "output_type": "execute_result"
    }
   ],
   "source": [
    "# plot confusion matrix\n",
    "confusion_matrix(mnist_validation[:,-1], validation_labels_predicted) #,labels=[0,1,2,3,4,5,6,7,8,9]\n"
   ]
  },
  {
   "cell_type": "code",
   "execution_count": null,
   "id": "f54f09e9-d599-4430-b0f1-a778ef29895b",
   "metadata": {},
   "outputs": [],
   "source": []
  }
 ],
 "metadata": {
  "kernelspec": {
   "display_name": "Python 3 (ipykernel)",
   "language": "python",
   "name": "python3"
  },
  "language_info": {
   "codemirror_mode": {
    "name": "ipython",
    "version": 3
   },
   "file_extension": ".py",
   "mimetype": "text/x-python",
   "name": "python",
   "nbconvert_exporter": "python",
   "pygments_lexer": "ipython3",
   "version": "3.8.11"
  }
 },
 "nbformat": 4,
 "nbformat_minor": 5
}
