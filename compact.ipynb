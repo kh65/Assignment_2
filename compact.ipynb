{
 "cells": [
  {
   "cell_type": "code",
   "execution_count": 1,
   "id": "7569bda1",
   "metadata": {},
   "outputs": [],
   "source": [
    "import numpy as np\n",
    "import pandas as pd\n",
    "import matplotlib.pyplot as plt\n",
    "from scipy.optimize import minimize\n",
    "import sklearn.preprocessing"
   ]
  },
  {
   "cell_type": "code",
   "execution_count": 2,
   "id": "61c54e7d",
   "metadata": {},
   "outputs": [],
   "source": [
    "def data_process(data):\n",
    "    features = data[:,:-1]\n",
    "    features = sklearn.preprocessing.StandardScaler().fit_transform(features)\n",
    "    features = sklearn.preprocessing.normalize(features)\n",
    "    data[:,:-1] = features\n",
    "    return data\n",
    "\n",
    "def accuracy(y, y_pred):\n",
    "    return sum(y == y_pred)/len(y)\n",
    "\n",
    "def mc_hinge(W,x,y):\n",
    "\n",
    "    '''\n",
    "    w_i - vector of weights of the SVM for the class i; W has |features| rows and |classes| columns\n",
    "    x - features of a sample\n",
    "    y - label of a sample\n",
    "    loss = max{0, max(w_j*x - w_y*x)}, j={0,...,|classes|-1}, j!=y\n",
    "    output - hingle loss value and the corresponding w_j index\n",
    "    '''\n",
    "\n",
    "    n_features, n_class = np.shape(W)\n",
    "    wyx = W[:,y].dot(x)\n",
    "    max_dif = - np.inf\n",
    "    ind_j = 0\n",
    "\n",
    "    for j in [i for i in range(n_class) if i != y]:\n",
    "        wjx = W[:,j].dot(x)\n",
    "        if wjx > max_dif:\n",
    "            max_dif = wjx\n",
    "            ind_j = j\n",
    "\n",
    "    max_dif -= wyx\n",
    "\n",
    "    if max_dif > 0:\n",
    "        return 1 + max_dif, ind_j\n",
    "    else:\n",
    "        return 0, -1"
   ]
  },
  {
   "cell_type": "code",
   "execution_count": 3,
   "id": "79dabaa5",
   "metadata": {},
   "outputs": [],
   "source": [
    "class LinearSVM:\n",
    "            \n",
    "    def fit(self, dataset, learning_rate, epochs, regularization):\n",
    "        size = len(dataset[0])-1\n",
    "        n = len(dataset)\n",
    "        \n",
    "        w = np.random.rand(size)        \n",
    "        w_norms = []\n",
    "        \n",
    "        X = dataset[:,:-1]\n",
    "        Y = dataset[:,-1]\n",
    "        \n",
    "        for i in range(epochs):\n",
    "            \n",
    "            shuffle = np.random.permutation(n)\n",
    "            X = X[shuffle]\n",
    "            Y = Y[shuffle]\n",
    "                        \n",
    "            for j in range(len(dataset)):\n",
    "\n",
    "                x = X[j]                \n",
    "                y = Y[j]\n",
    "        \n",
    "                ywx = y * w.dot(x) \n",
    "                    \n",
    "                if ywx < 1:\n",
    "                    gradient = (2 * regularization * w) / n - y*x\n",
    "                else:\n",
    "                    gradient = (2 * regularization * w) / n\n",
    "                \n",
    "                w = w - learning_rate * gradient\n",
    "            \n",
    "            w_norms.append(np.linalg.norm(w))\n",
    "        \n",
    "        return w, w_norms\n",
    "        \n",
    "    def predict(self, dataset, w):\n",
    "        y = np.zeros(len(dataset)) \n",
    "        dataset = dataset[:,:-1]\n",
    "        \n",
    "        for i in range(len(dataset)):\n",
    "            y[i] = np.sign(np.dot(dataset[i],w))\n",
    "        return y"
   ]
  },
  {
   "cell_type": "code",
   "execution_count": 4,
   "id": "e679df2f",
   "metadata": {},
   "outputs": [],
   "source": [
    "class LinearSVM_MC:\n",
    "    \n",
    "        \n",
    "    def fit(self, dataset, learning_rate, epochs, regularization, n_class):\n",
    "        size = len(dataset[0])-1\n",
    "        n = len(dataset)\n",
    "        \n",
    "        W = np.random.rand(size, n_class)       \n",
    "        w_norms = []\n",
    "\n",
    "        X = dataset[:,:-1]\n",
    "        Y = dataset[:,-1]\n",
    "        \n",
    "        for i in range(epochs):\n",
    "            \n",
    "            shuffle = np.random.permutation(n)\n",
    "            X = X[shuffle]\n",
    "            Y = Y[shuffle]\n",
    "            \n",
    "            for j in range(len(dataset)):\n",
    "                x = X[j]                \n",
    "                y = int(Y[j])\n",
    "                \n",
    "                gradient = np.zeros([size, n_class])\n",
    "        \n",
    "                temp, k = mc_hinge(W, x, y)\n",
    "                    \n",
    "                if temp > 0:\n",
    "                    \n",
    "                    gradient[:,y] = -x\n",
    "\n",
    "                    gradient[:,k] = x\n",
    "                    \n",
    "                \n",
    "                W = W - learning_rate * (gradient + (2 * regularization * W) / n)\n",
    "                \n",
    "                '''\n",
    "                W = W - learning_rate * gradient / n\n",
    "                \n",
    "                temp = np.linalg.norm(W, ord='fro')\n",
    "                if temp > 1/regularization:\n",
    "                    W /= (temp * regularization)\n",
    "                '''\n",
    "                \n",
    "            w_norms.append(np.linalg.norm(W, axis=0))\n",
    "            \n",
    "        w_norms = np.array(w_norms)\n",
    "        \n",
    "        return W, w_norms\n",
    "        \n",
    "    def predict(self, dataset, W):\n",
    "        y = np.zeros(len(dataset)) \n",
    "        dataset = dataset[:,:-1]\n",
    "\n",
    "        for i in range(len(dataset)):\n",
    "            y[i] = np.argmax(np.dot(W.T, dataset[i]))\n",
    "        return y"
   ]
  },
  {
   "cell_type": "code",
   "execution_count": 5,
   "id": "ba5e51bd",
   "metadata": {},
   "outputs": [],
   "source": [
    "toydata = pd.read_csv('toydata_large.csv').to_numpy()\n",
    "toydata = data_process(toydata)"
   ]
  },
  {
   "cell_type": "code",
   "execution_count": 6,
   "id": "18f125a2",
   "metadata": {},
   "outputs": [],
   "source": [
    "mySVM = LinearSVM()\n",
    "regularization = 0.01\n",
    "learning_rate = 0.001\n",
    "epochs = 10\n",
    "w, w_norms = mySVM.fit(toydata, learning_rate, epochs, regularization)"
   ]
  },
  {
   "cell_type": "code",
   "execution_count": 7,
   "id": "542f0681",
   "metadata": {},
   "outputs": [
    {
     "data": {
      "text/plain": [
       "1.0"
      ]
     },
     "execution_count": 7,
     "metadata": {},
     "output_type": "execute_result"
    }
   ],
   "source": [
    "labels = mySVM.predict(toydata, w)\n",
    "accuracy(toydata[:,-1], labels)"
   ]
  },
  {
   "cell_type": "code",
   "execution_count": 8,
   "id": "326e3d05",
   "metadata": {},
   "outputs": [],
   "source": [
    "data = np.load(\"mnist.npz\")\n",
    "\n",
    "train = data[\"train\"].T\n",
    "#train = data_process(train)\n",
    "train_labels = data[\"train_labels\"][0]\n",
    "\n",
    "test = data[\"test\"].T\n",
    "#test = data_process(test)\n",
    "test_labels = data[\"test_labels\"][0]\n",
    "\n",
    "mnist_train = np.zeros([len(train), len(train[0])+1])\n",
    "mnist_train[:,:-1] = train\n",
    "mnist_train[:,-1] = train_labels\n",
    "\n",
    "mnist_test = np.zeros([len(test), len(test[0])+1])\n",
    "mnist_test[:,:-1] = test\n",
    "mnist_test[:,-1] = test_labels"
   ]
  },
  {
   "cell_type": "code",
   "execution_count": 9,
   "id": "b81b1e9f",
   "metadata": {},
   "outputs": [],
   "source": [
    "mySVM2 = LinearSVM_MC()\n",
    "regularization = 0.1\n",
    "learning_rate = 0.01\n",
    "epochs = 10\n",
    "W, norms = mySVM2.fit(mnist_train, learning_rate, epochs, regularization, n_class=10)"
   ]
  },
  {
   "cell_type": "code",
   "execution_count": 10,
   "id": "0a3a3eee",
   "metadata": {},
   "outputs": [
    {
     "data": {
      "text/plain": [
       "0.8995333333333333"
      ]
     },
     "execution_count": 10,
     "metadata": {},
     "output_type": "execute_result"
    }
   ],
   "source": [
    "labels = mySVM2.predict(mnist_train, W)\n",
    "accuracy(mnist_train[:,-1], labels)"
   ]
  },
  {
   "cell_type": "code",
   "execution_count": 11,
   "id": "95ea95c5",
   "metadata": {},
   "outputs": [
    {
     "data": {
      "text/plain": [
       "0.8979"
      ]
     },
     "execution_count": 11,
     "metadata": {},
     "output_type": "execute_result"
    }
   ],
   "source": [
    "labels = mySVM2.predict(mnist_test, W)\n",
    "accuracy(mnist_test[:,-1], labels)"
   ]
  }
 ],
 "metadata": {
  "kernelspec": {
   "display_name": "Python 3 (ipykernel)",
   "language": "python",
   "name": "python3"
  },
  "language_info": {
   "codemirror_mode": {
    "name": "ipython",
    "version": 3
   },
   "file_extension": ".py",
   "mimetype": "text/x-python",
   "name": "python",
   "nbconvert_exporter": "python",
   "pygments_lexer": "ipython3",
   "version": "3.9.7"
  }
 },
 "nbformat": 4,
 "nbformat_minor": 5
}
