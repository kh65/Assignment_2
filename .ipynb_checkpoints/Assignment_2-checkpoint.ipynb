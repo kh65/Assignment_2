{
 "cells": [
  {
   "cell_type": "code",
   "execution_count": null,
   "id": "02876da5-9eb5-428f-94b0-3f96257d6a75",
   "metadata": {},
   "outputs": [],
   "source": []
  }
 ],
 "metadata": {
  "kernelspec": {
   "display_name": "Python [conda env:datascience1] *",
   "language": "python",
   "name": "conda-env-datascience1-py"
  },
  "language_info": {
   "codemirror_mode": {
    "name": "ipython",
    "version": 3
   },
   "file_extension": ".py",
   "mimetype": "text/x-python",
   "name": "python",
   "nbconvert_exporter": "python",
   "pygments_lexer": "ipython3",
   "version": "3.8.11"
  }
 },
 "nbformat": 4,
 "nbformat_minor": 5
}
